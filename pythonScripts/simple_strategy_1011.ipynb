{
 "cells": [
  {
   "cell_type": "code",
   "execution_count": 2,
   "metadata": {},
   "outputs": [],
   "source": [
    "import re\n",
    "import javalang\n",
    "import os \n",
    "import pandas as pd\n"
   ]
  },
  {
   "cell_type": "code",
   "execution_count": 3,
   "metadata": {},
   "outputs": [],
   "source": [
    "\n",
    "def remove_fqdm(tokens):\n",
    "    tokens = list(tokens)\n",
    "    result = [] \n",
    "    for t in tokens:\n",
    "        if len(result)>=4 and result[-1].value == '.' and result[-3].value=='.':\n",
    "            result = result[:-4]+result[-2:]\n",
    "            result.append(t)\n",
    "        else:\n",
    "            result.append(t)\n",
    "    \n",
    "    final_res = []\n",
    "    flag = False\n",
    "    for i,j in zip(result[:-1], result[1:]):\n",
    "        if (i.value == 'lang' or i.value == 'Util') and j.value == '.':\n",
    "            flag = True\n",
    "            continue\n",
    "        else:\n",
    "            if flag:\n",
    "                flag = False\n",
    "                continue\n",
    "            else:\n",
    "                final_res.append(i)\n",
    "        \n",
    "\n",
    "    retval = ' '.join([_.value for _ in final_res])\n",
    "    \n",
    "    return retval\n",
    "\n",
    "def simplify(line):\n",
    "    line = line.strip()\n",
    "    if not line.endswith(';'):\n",
    "        line+=';'\n",
    "    tokens = javalang.tokenizer.tokenize(line)\n",
    "    newline = remove_fqdm(tokens)\n",
    "    return newline\n"
   ]
  },
  {
   "cell_type": "code",
   "execution_count": 4,
   "metadata": {},
   "outputs": [],
   "source": [
    "code = '''class X {\n",
    "    encode(){\n",
    "        org.junit.Assert.assertEquals(a.b.c.D.E, parsed);\n",
    "        if(org.eclipse.xtext.xbase.lib.IterableExtensions.isNullOrEmpty(tokens)){return\"\";} \n",
    "        java.nio.ByteBuffer buffer=java.nio.ByteBuffer.allocate((((com.google.common.collect.Iterables.size(tokens))*2)*4));\n",
    "        for(org.eclipse.lsp4j.util.SemanticHighlightingTokens.Token token:tokens){\n",
    "            int character=token.character;int length=token.length;\n",
    "            int scope=token.scope;\n",
    "            int lengthAndScope=length;\n",
    "            lengthAndScope=lengthAndScope<<(org.eclipse.lsp4j.util.SemanticHighlightingTokens.LENGTH_SHIFT); \n",
    "            lengthAndScope|=scope;buffer.putInt(character); \n",
    "            buffer.putInt(lengthAndScope); \n",
    "        }\n",
    "        org . junit . Assert . assertEquals ( software . amazon . awssdk . protocols . json . AwsJsonErrorMessageParserTest . MESSAGE_CONTENT , parsed );\n",
    "        assertEquals( a.b.c.D.E, parsed);\n",
    "        return java.util.Base64.getEncoder().encodeToString(buffer.array());\n",
    "    }\n",
    "}\n",
    "'''"
   ]
  },
  {
   "cell_type": "code",
   "execution_count": 5,
   "metadata": {},
   "outputs": [
    {
     "name": "stdout",
     "output_type": "stream",
     "text": [
      "class X {\n",
      "encode ( ) {\n",
      "Assert . assertEquals ( D . E , parsed )\n",
      "if ( IterableExtensions . isNullOrEmpty ( tokens ) ) { return \"\" ; }\n",
      "nio . ByteBuffer buffer = ByteBuffer . allocate ( ( ( ( Iterables . size ( tokens ) ) * 2 ) * 4 ) )\n",
      "for ( SemanticHighlightingTokens . Token token : tokens ) {\n",
      "int character = token . character ; int length = token . length\n",
      "int scope = token . scope\n",
      "int lengthAndScope = length\n",
      "lengthAndScope = lengthAndScope << ( SemanticHighlightingTokens . LENGTH_SHIFT )\n",
      "lengthAndScope |= scope ; buffer . putInt ( character )\n",
      "buffer . putInt ( lengthAndScope )\n",
      "}\n",
      "Assert . assertEquals ( AwsJsonErrorMessageParserTest . MESSAGE_CONTENT , parsed )\n",
      "assertEquals ( D . E , parsed )\n",
      "return Base64 . getEncoder ( ) . encodeToString ( buffer . array ( ) )\n",
      "}\n",
      "}\n",
      "\n"
     ]
    }
   ],
   "source": [
    "lines = code.split('\\n')\n",
    "for line in lines:\n",
    "    print(simplify(line))"
   ]
  }
 ],
 "metadata": {
  "kernelspec": {
   "display_name": "Python 3.9.12 ('toga')",
   "language": "python",
   "name": "python3"
  },
  "language_info": {
   "codemirror_mode": {
    "name": "ipython",
    "version": 3
   },
   "file_extension": ".py",
   "mimetype": "text/x-python",
   "name": "python",
   "nbconvert_exporter": "python",
   "pygments_lexer": "ipython3",
   "version": "3.9.12"
  },
  "orig_nbformat": 4,
  "vscode": {
   "interpreter": {
    "hash": "4f0b84321a98c0f3980a99efe2b5dd0a42adf2edabdea261956befe3e3e02d52"
   }
  }
 },
 "nbformat": 4,
 "nbformat_minor": 2
}
