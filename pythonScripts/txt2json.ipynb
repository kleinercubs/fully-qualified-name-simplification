{
 "cells": [
  {
   "cell_type": "code",
   "execution_count": 2,
   "metadata": {},
   "outputs": [],
   "source": [
    "import javalang\n",
    "import re\n",
    "import os\n",
    "import sys\n",
    "import json\n"
   ]
  },
  {
   "cell_type": "markdown",
   "metadata": {},
   "source": [
    "修改folder为Training, Eval. 在jsonInput4JavaParser下面得到json文件\n",
    "\n",
    "这个json文件\n",
    "1. key是行号, value是一个字典\n",
    "2. 包含了可以被java parser处理的compilation unit\n",
    "3. 把从sourceRoot输入输出的部分改成读写字符串. "
   ]
  },
  {
   "cell_type": "code",
   "execution_count": 37,
   "metadata": {},
   "outputs": [],
   "source": [
    "folder = \"Testing\"\n",
    "\n",
    "input_folder = os.path.join('../input/', folder)\n",
    "out_fp = os.path.join('../jsonInput4JavaParser/', folder+'.json')\n",
    "\n",
    "assert_file = 'assertLines.txt'\n",
    "testMethod_file = 'testMethods.txt'\n",
    "\n",
    "assertion_fp = os.path.join(input_folder,assert_file)\n",
    "testMethod_fp = os.path.join(input_folder,testMethod_file)\n",
    "\n",
    "split_re = re.compile(\"\\\"<AssertPlaceHolder>\\\" ;[ }]*\")\n"
   ]
  },
  {
   "cell_type": "markdown",
   "metadata": {},
   "source": [
    "assertLines.txt\n",
    "\n",
    "```java\n",
    "assertEquals(a, b)\n",
    "\n",
    "class X{ void var24678() { assertEquals(a, b); } }\n",
    "```\n",
    "\n",
    "testMethods.txt\n",
    "```java\n",
    "test_method(){...} focal_method(Type, Type){...}\n",
    "\n",
    "class Y {\n",
    "    void test_method(){\n",
    "        /* AssertPlaceHolder 变成注释 */\n",
    "    }\n",
    "}\n",
    "\n",
    "class Z{\n",
    "    void focal_method(Type a, Type b){\n",
    "        ...\n",
    "    }\n",
    "}\n",
    "```"
   ]
  },
  {
   "cell_type": "code",
   "execution_count": 42,
   "metadata": {},
   "outputs": [],
   "source": [
    "with open(assertion_fp,'r',encoding='utf-8') as f:\n",
    "    assertLines = f.readlines()\n",
    "\n",
    "with open(testMethod_fp,'r',encoding='utf-8') as f:\n",
    "    testMethods = f.readlines()"
   ]
  },
  {
   "cell_type": "code",
   "execution_count": 43,
   "metadata": {},
   "outputs": [],
   "source": [
    "outputs = {}"
   ]
  },
  {
   "cell_type": "code",
   "execution_count": 44,
   "metadata": {},
   "outputs": [],
   "source": [
    "class ParseError(Exception):\n",
    "    pass"
   ]
  },
  {
   "cell_type": "code",
   "execution_count": 45,
   "metadata": {},
   "outputs": [],
   "source": [
    "def process_assertLine(assertLine):\n",
    "    return 'class X { void var24678() { ' + assertLine + '; } }'"
   ]
  },
  {
   "cell_type": "code",
   "execution_count": 49,
   "metadata": {},
   "outputs": [],
   "source": [
    "def split_testmethod(testMethod):\n",
    "    match = split_re.search(testMethod)\n",
    "    if not match:\n",
    "        raise ParseError('cannot find test method and focal method')\n",
    "    idx = match.span()[1]\n",
    "    tm = testMethod[0:idx]\n",
    "    fm = testMethod[idx:]\n",
    "    return tm, fm\n",
    "\n",
    "def split_func(func):\n",
    "    lp = func.find('(')\n",
    "    rp = func.find(')')\n",
    "    return func[:lp+1], func[lp+1:rp], func[rp:]\n",
    "\n",
    "def add_param_def(str):\n",
    "    if str.strip() == '':\n",
    "        return str\n",
    "    type_definition = str.split(',')\n",
    "    res = ','.join([x+\" var24678\" for x in type_definition])\n",
    "    return res\n",
    "\n",
    "def deal_with_atlas_fm(fm):\n",
    "    func_name, params, body = split_func(fm)\n",
    "    params = add_param_def(params)\n",
    "    return func_name+params+body\n",
    "\n",
    "def simp_fqdm(assertion, testMethod):\n",
    "    tm, fm = split_testmethod(testMethod)\n",
    "    tm = 'void ' + tm.replace('\"<AssertPlaceHolder>\" ;', '/* \"<AssertPlaceHolder>\" ; */')\n",
    "    fm = 'void ' + fm\n",
    "    fm = deal_with_atlas_fm(fm)\n",
    "    sp = '\\n/* separator */\\n'\n",
    "    assertion = 'void var24678(){' + assertion + ';'+'}'\n",
    "    return 'class X{\\n' + assertion + '}\\n',  'class Y{\\n' + tm +'}\\n',  'class Z{\\n'+fm + '}\\n'\n"
   ]
  },
  {
   "cell_type": "code",
   "execution_count": 50,
   "metadata": {},
   "outputs": [],
   "source": [
    "error_idx = []\n",
    "for idx,(assertLine,testMethod) in enumerate(zip(assertLines,testMethods)):\n",
    "    try:\n",
    "        a,t,f = simp_fqdm(assertLine,testMethod)\n",
    "    except ParseError as e:\n",
    "        error_idx.append(idx)\n",
    "        continue\n",
    "\n",
    "    case = {}\n",
    "    case['assertion'] = a\n",
    "    case['testMethod'] = t\n",
    "    case['focalMethod'] = f\n",
    "\n",
    "    outputs[idx] = case\n",
    "    "
   ]
  },
  {
   "cell_type": "code",
   "execution_count": 51,
   "metadata": {},
   "outputs": [],
   "source": [
    "with open(out_fp,'w',encoding='utf-8') as f:\n",
    "    json.dump(outputs,f,indent=4)\n"
   ]
  },
  {
   "cell_type": "markdown",
   "metadata": {},
   "source": []
  },
  {
   "cell_type": "code",
   "execution_count": 52,
   "metadata": {},
   "outputs": [
    {
     "name": "stdout",
     "output_type": "stream",
     "text": [
      "[135, 494, 562, 1289, 1589, 1688, 1832, 2125, 2311, 2627, 2716, 2769, 2801, 3133, 3422, 3472, 5951, 6303, 6330, 6764, 7700, 7883, 8003, 8884, 9816, 10323, 10568, 11148, 11502, 12175, 12296, 12577, 12589, 12647, 12908, 13032, 13515, 13712, 14444, 14653, 15015, 15067, 15169, 15434, 15800, 15905, 17168, 17193, 17611, 17990, 18189, 18433, 18449]\n"
     ]
    }
   ],
   "source": [
    "print(error_idx)"
   ]
  },
  {
   "cell_type": "code",
   "execution_count": null,
   "metadata": {},
   "outputs": [],
   "source": []
  },
  {
   "cell_type": "code",
   "execution_count": null,
   "metadata": {},
   "outputs": [],
   "source": []
  },
  {
   "cell_type": "code",
   "execution_count": null,
   "metadata": {},
   "outputs": [],
   "source": []
  }
 ],
 "metadata": {
  "kernelspec": {
   "display_name": "Python 3.10.4 ('toga')",
   "language": "python",
   "name": "python3"
  },
  "language_info": {
   "codemirror_mode": {
    "name": "ipython",
    "version": 3
   },
   "file_extension": ".py",
   "mimetype": "text/x-python",
   "name": "python",
   "nbconvert_exporter": "python",
   "pygments_lexer": "ipython3",
   "version": "3.10.4"
  },
  "orig_nbformat": 4,
  "vscode": {
   "interpreter": {
    "hash": "0e9247189545a26babffec55f6939910379c9b178ab70f9b4c115c3c19c23866"
   }
  }
 },
 "nbformat": 4,
 "nbformat_minor": 2
}
